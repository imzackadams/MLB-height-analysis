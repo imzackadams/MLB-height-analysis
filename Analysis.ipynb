{
 "cells": [
  {
   "cell_type": "code",
   "execution_count": null,
   "id": "3568aea7",
   "metadata": {},
   "outputs": [],
   "source": [
    "import pandas as pd\n",
    "from pybaseball import batting_stats\n",
    "import matplotlib.pyplot as plt\n",
    "import seaborn as sns\n",
    "\n",
    "pd.set_option('display.max_rows', None)\n",
    "pd.set_option('display.max_columns', None)\n",
    "\n",
    "\n",
    "# Initialize an empty DataFrame\n",
    "all_years_data = pd.DataFrame()\n",
    "\n",
    "# Loop through the years of interest\n",
    "for year in range(2015, 2023):  # 2023 is the stop argument and it's exclusive\n",
    "    # Fetch batting stats for a given year\n",
    "    year_data = batting_stats(year)\n",
    "    \n",
    "    # Add a 'Year' column to keep track of the year of the data\n",
    "    year_data['Year'] = year\n",
    "\n",
    "    # Append the yearly data to the overall DataFrame\n",
    "    all_years_data = pd.concat([all_years_data, year_data])\n",
    "\n",
    "# Now 'all_years_data' holds data from 2012 to 2022\n"
   ]
  },
  {
   "cell_type": "code",
   "execution_count": null,
   "id": "9c372b62",
   "metadata": {},
   "outputs": [],
   "source": [
    " all_years_data.head()"
   ]
  },
  {
   "cell_type": "code",
   "execution_count": null,
   "id": "45c98d56",
   "metadata": {},
   "outputs": [],
   "source": [
    "# Load the People.csv file from Lahman's Baseball Database\n",
    "people_df = pd.read_csv('People.csv')\n",
    "\n",
    "# Extract playerID and height\n",
    "height_df = people_df[['playerID', 'height']]\n",
    "\n",
    "# Display the DataFrame\n",
    "print(height_df)\n"
   ]
  },
  {
   "cell_type": "code",
   "execution_count": null,
   "id": "e3d2fcf9",
   "metadata": {},
   "outputs": [],
   "source": [
    "people_df['Name'] = people_df['nameFirst'] + ' ' + people_df['nameLast']\n"
   ]
  },
  {
   "cell_type": "code",
   "execution_count": null,
   "id": "fc0ff3b8",
   "metadata": {},
   "outputs": [],
   "source": [
    "# Remove leading/trailing white space\n",
    "people_df['Name'] = people_df['Name'].str.strip()\n",
    "all_years_data['Name'] = all_years_data['Name'].str.strip()\n",
    "\n",
    "# Convert to same case (let's go with title case)\n",
    "people_df['Name'] = people_df['Name'].str.title()\n",
    "all_years_data['Name'] = all_years_data['Name'].str.title()\n"
   ]
  },
  {
   "cell_type": "code",
   "execution_count": null,
   "id": "9d1ae1cd",
   "metadata": {},
   "outputs": [],
   "source": [
    "height_df = people_df[['Name', 'height']]\n"
   ]
  },
  {
   "cell_type": "code",
   "execution_count": null,
   "id": "5d8dd47c",
   "metadata": {},
   "outputs": [],
   "source": [
    "\n",
    "height_df[\"height\"].describe()"
   ]
  },
  {
   "cell_type": "code",
   "execution_count": null,
   "id": "13df738b",
   "metadata": {},
   "outputs": [],
   "source": [
    "all_data_with_height = pd.merge(all_years_data, height_df, on='Name', how='inner')\n"
   ]
  },
  {
   "cell_type": "code",
   "execution_count": null,
   "id": "5717f8e8",
   "metadata": {
    "scrolled": false
   },
   "outputs": [],
   "source": [
    "all_data_with_height.tail()"
   ]
  },
  {
   "cell_type": "code",
   "execution_count": null,
   "id": "d55872d2",
   "metadata": {},
   "outputs": [],
   "source": [
    "# Group# Group by 'Name' and 'height', calculate the mean, then reset index\n",
    "player_avg_data = all_data_with_height.groupby(['Name', 'height'])[['AVG', 'OBP', 'SLG', 'BB', 'IBB', 'SB','HBP']].mean().reset_index()\n",
    "\n",
    "# Now 'player_avg_data' holds the average performance statistics for each player over the years 2012-2022, \n",
    "# along with each player's height\n"
   ]
  },
  {
   "cell_type": "code",
   "execution_count": null,
   "id": "bd96f5d6",
   "metadata": {},
   "outputs": [],
   "source": [
    "player_avg_data.describe()"
   ]
  },
  {
   "cell_type": "code",
   "execution_count": null,
   "id": "20346477",
   "metadata": {},
   "outputs": [],
   "source": [
    "# Calculate the average height\n",
    "average_height = height_df['height'].mean()\n",
    "\n",
    "# Display the average height\n",
    "print(\"Average height of players:\", average_height)\n"
   ]
  },
  {
   "cell_type": "code",
   "execution_count": null,
   "id": "3d4c987e",
   "metadata": {},
   "outputs": [],
   "source": [
    "def height_category(height):\n",
    "    if height < 72:  # less than 72 inches\n",
    "        return 'Short'\n",
    "    elif height <= 75:  # 73 to 75 inches\n",
    "        return 'Average'\n",
    "    else:  # 76 inches and taller\n",
    "        return 'Tall'\n",
    "\n",
    "# Apply the function to create a new 'Height Category' column\n",
    "player_avg_data['Height Category'] = player_avg_data['height'].apply(height_category)\n"
   ]
  },
  {
   "cell_type": "code",
   "execution_count": null,
   "id": "cbbf1b1a",
   "metadata": {},
   "outputs": [],
   "source": [
    "player_avg_data"
   ]
  },
  {
   "cell_type": "code",
   "execution_count": null,
   "id": "58baa10c",
   "metadata": {},
   "outputs": [],
   "source": [
    "# Set up the matplotlib figure\n",
    "f, axes = plt.subplots(6, 1, figsize=(7, 15), sharex=True)\n",
    "\n",
    "sns.barplot(x='Height Category', y='AVG', data=player_avg_data, ax=axes[0])\n",
    "axes[0].set_ylabel('Average Batting Average')\n",
    "\n",
    "sns.barplot(x='Height Category', y='OBP', data=player_avg_data, ax=axes[1])\n",
    "axes[1].set_ylabel('Average On-Base Percentage')\n",
    "\n",
    "sns.barplot(x='Height Category', y='SLG', data=player_avg_data, ax=axes[2])\n",
    "axes[2].set_ylabel('Average Slugging Percentage')\n",
    "\n",
    "sns.barplot(x='Height Category', y='BB', data=player_avg_data, ax=axes[3])\n",
    "axes[3].set_ylabel('Average Base on Balls')\n",
    "\n",
    "sns.barplot(x='Height Category', y='IBB', data=player_avg_data, ax=axes[4])\n",
    "axes[4].set_ylabel('Average Intentional Base on Balls')\n",
    "\n",
    "sns.barplot(x='Height Category', y='SB', data=player_avg_data, ax=axes[5])\n",
    "axes[5].set_ylabel('Average Stolen Bases')\n",
    "\n",
    "plt.tight_layout()\n"
   ]
  },
  {
   "cell_type": "code",
   "execution_count": null,
   "id": "2b948aff",
   "metadata": {},
   "outputs": [],
   "source": [
    "f, axes = plt.subplots(6, 1, figsize=(7, 15), sharex=True)\n",
    "\n",
    "sns.boxplot(x='Height Category', y='AVG', data=player_avg_data, ax=axes[0])\n",
    "axes[0].set_ylabel('Batting Average')\n",
    "\n",
    "sns.boxplot(x='Height Category', y='OBP', data=player_avg_data, ax=axes[1])\n",
    "axes[1].set_ylabel('On-Base Percentage')\n",
    "\n",
    "sns.boxplot(x='Height Category', y='SLG', data=player_avg_data, ax=axes[2])\n",
    "axes[2].set_ylabel('Slugging Percentage')\n",
    "\n",
    "sns.boxplot(x='Height Category', y='BB', data=player_avg_data, ax=axes[3])\n",
    "axes[3].set_ylabel('Base on Balls')\n",
    "\n",
    "sns.boxplot(x='Height Category', y='IBB', data=player_avg_data, ax=axes[4])\n",
    "axes[4].set_ylabel('Intentional Base on Balls')\n",
    "\n",
    "sns.boxplot(x='Height Category', y='SB', data=player_avg_data, ax=axes[5])\n",
    "axes[5].set_ylabel('Stolen Bases')\n",
    "\n",
    "plt.tight_layout()\n",
    "\n"
   ]
  },
  {
   "cell_type": "code",
   "execution_count": null,
   "id": "d21cf68c",
   "metadata": {},
   "outputs": [],
   "source": [
    "f, axes = plt.subplots(6, 1, figsize=(7, 15), sharex=True)\n",
    "\n",
    "sns.scatterplot(x='height', y='AVG', hue='Height Category', data=player_avg_data, ax=axes[0])\n",
    "axes[0].set_ylabel('Batting Average')\n",
    "\n",
    "sns.scatterplot(x='height', y='OBP', hue='Height Category', data=player_avg_data, ax=axes[1])\n",
    "axes[1].set_ylabel('On-Base Percentage')\n",
    "\n",
    "sns.scatterplot(x='height', y='SLG', hue='Height Category', data=player_avg_data, ax=axes[2])\n",
    "axes[2].set_ylabel('Slugging Percentage')\n",
    "\n",
    "sns.scatterplot(x='height', y='BB', hue='Height Category', data=player_avg_data, ax=axes[3])\n",
    "axes[3].set_ylabel('Base on Balls')\n",
    "\n",
    "sns.scatterplot(x='height', y='IBB', hue='Height Category', data=player_avg_data, ax=axes[4])\n",
    "axes[4].set_ylabel('Intentional Base on Balls')\n",
    "\n",
    "sns.scatterplot(x='height', y='SB', hue='Height Category', data=player_avg_data, ax=axes[5])\n",
    "axes[5].set_ylabel('Stolen Bases')\n",
    "\n",
    "plt.tight_layout()\n"
   ]
  },
  {
   "cell_type": "code",
   "execution_count": null,
   "id": "6b3b8493",
   "metadata": {},
   "outputs": [],
   "source": [
    "sns.pairplot(player_avg_data[['AVG', 'OBP', 'SLG', 'BB', 'IBB', 'SB', 'height']])\n"
   ]
  },
  {
   "cell_type": "code",
   "execution_count": null,
   "id": "c1534e8d",
   "metadata": {},
   "outputs": [],
   "source": [
    "\n",
    "# Scatter plot of AVG vs. OBP with green markers\n",
    "sns.scatterplot(x='AVG', y='OBP', hue='height', data=player_avg_data, palette='Greens')\n",
    "plt.title('AVG vs. OBP')\n",
    "plt.show()\n",
    "\n",
    "# Scatter plot of SLG vs. BB with green markers\n",
    "sns.scatterplot(x='SLG', y='BB', hue='height', data=player_avg_data, palette='Greens')\n",
    "plt.title('SLG vs. BB')\n",
    "plt.show()\n",
    "\n"
   ]
  },
  {
   "cell_type": "code",
   "execution_count": null,
   "id": "a3915964",
   "metadata": {},
   "outputs": [],
   "source": []
  },
  {
   "cell_type": "code",
   "execution_count": null,
   "id": "d1dee987",
   "metadata": {},
   "outputs": [],
   "source": []
  }
 ],
 "metadata": {
  "kernelspec": {
   "display_name": "baseball",
   "language": "python",
   "name": "baseball"
  },
  "language_info": {
   "codemirror_mode": {
    "name": "ipython",
    "version": 3
   },
   "file_extension": ".py",
   "mimetype": "text/x-python",
   "name": "python",
   "nbconvert_exporter": "python",
   "pygments_lexer": "ipython3",
   "version": "3.11.3"
  }
 },
 "nbformat": 4,
 "nbformat_minor": 5
}
